{
 "cells": [
  {
   "cell_type": "markdown",
   "metadata": {},
   "source": [
    "# Yolo-v2-tiny DW2TF validation"
   ]
  },
  {
   "cell_type": "code",
   "execution_count": 1,
   "metadata": {},
   "outputs": [],
   "source": [
    "import numpy as np\n",
    "import tensorflow as tf\n",
    "\n",
    "# Random input data to test \n",
    "in_data = np.random.randn(64, 416, 416, 3) * 120.56"
   ]
  },
  {
   "cell_type": "markdown",
   "metadata": {},
   "source": [
    "### Output from Darkflow converted Yolo-v2-tiny"
   ]
  },
  {
   "cell_type": "code",
   "execution_count": 2,
   "metadata": {},
   "outputs": [
    {
     "name": "stderr",
     "output_type": "stream",
     "text": [
      "WARNING: Logging before flag parsing goes to stderr.\n",
      "W0730 11:43:31.104432 140471296845568 deprecation.py:323] From /scratch/anaconda3/envs/tf1.14/lib/python3.6/site-packages/tensorflow/python/training/saver.py:1276: checkpoint_exists (from tensorflow.python.training.checkpoint_management) is deprecated and will be removed in a future version.\n",
      "Instructions for updating:\n",
      "Use standard file APIs to check for files with this prefix.\n"
     ]
    }
   ],
   "source": [
    "tf.reset_default_graph()\n",
    "\n",
    "saver = tf.train.import_meta_graph('/data/darkflow/yolov2-tiny.ckpt.meta')\n",
    "ckpt_path = '/data/darkflow/yolov2-tiny.ckpt'\n",
    "\n",
    "g = tf.get_default_graph()\n",
    "in_t = g.get_tensor_by_name('input:0')\n",
    "out_t = g.get_tensor_by_name('output:0')\n",
    "\n",
    "with tf.Session() as sess:\n",
    "    saver.restore(sess, ckpt_path)\n",
    "\n",
    "    out_data_darkflow = sess.run(out_t, feed_dict={in_t: in_data})"
   ]
  },
  {
   "cell_type": "markdown",
   "metadata": {},
   "source": [
    "### Output from DW2TF converted Yolo-v2-tiny"
   ]
  },
  {
   "cell_type": "code",
   "execution_count": 3,
   "metadata": {},
   "outputs": [],
   "source": [
    "tf.reset_default_graph()\n",
    "\n",
    "saver = tf.train.import_meta_graph('/data/DW2TF/data/yolov2-tiny.ckpt.meta')\n",
    "ckpt_path = '/data/DW2TF/data/yolov2-tiny.ckpt'\n",
    "\n",
    "g = tf.get_default_graph()\n",
    "in_t = g.get_tensor_by_name('yolov2-tiny/net1:0')\n",
    "out_t = g.get_tensor_by_name('yolov2-tiny/convolutional9/BiasAdd:0')\n",
    "\n",
    "with tf.Session() as sess:\n",
    "    saver.restore(sess, ckpt_path)\n",
    "    \n",
    "    out_data_dw2tf = sess.run(out_t, feed_dict={in_t: in_data})"
   ]
  },
  {
   "cell_type": "markdown",
   "metadata": {},
   "source": [
    "### RMS Error"
   ]
  },
  {
   "cell_type": "code",
   "execution_count": 4,
   "metadata": {},
   "outputs": [
    {
     "name": "stdout",
     "output_type": "stream",
     "text": [
      "(64, 13, 13, 425)\n",
      "(64, 13, 13, 425)\n",
      "7.609460173061993e-14\n"
     ]
    }
   ],
   "source": [
    "print(out_data_darkflow.shape)\n",
    "print(out_data_dw2tf.shape)\n",
    "print(np.mean(out_data_darkflow - out_data_dw2tf)**2)"
   ]
  },
  {
   "cell_type": "code",
   "execution_count": 5,
   "metadata": {},
   "outputs": [
    {
     "name": "stdout",
     "output_type": "stream",
     "text": [
      "[ -42.268208   13.246095    8.282185  -11.273804 -104.089836  144.73775\n",
      "   52.463158  150.64749    68.77003    16.30984 ]\n"
     ]
    }
   ],
   "source": [
    "print(out_data_darkflow[0,0,0,:10])"
   ]
  },
  {
   "cell_type": "code",
   "execution_count": 6,
   "metadata": {},
   "outputs": [
    {
     "name": "stdout",
     "output_type": "stream",
     "text": [
      "[ -42.268047   13.246207    8.28245   -11.273606 -104.08937   144.7373\n",
      "   52.461124  150.6482     68.76962    16.310291]\n"
     ]
    }
   ],
   "source": [
    "print(out_data_dw2tf[0,0,0,:10])"
   ]
  },
  {
   "cell_type": "code",
   "execution_count": null,
   "metadata": {},
   "outputs": [],
   "source": []
  }
 ],
 "metadata": {
  "kernelspec": {
   "display_name": "Python 3",
   "language": "python",
   "name": "python3"
  },
  "language_info": {
   "codemirror_mode": {
    "name": "ipython",
    "version": 3
   },
   "file_extension": ".py",
   "mimetype": "text/x-python",
   "name": "python",
   "nbconvert_exporter": "python",
   "pygments_lexer": "ipython3",
   "version": "3.6.8"
  }
 },
 "nbformat": 4,
 "nbformat_minor": 2
}
